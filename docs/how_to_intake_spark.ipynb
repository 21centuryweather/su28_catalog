{
 "cells": [
  {
   "cell_type": "markdown",
   "id": "defd8a42-7ff8-482d-981c-3f45ef43df21",
   "metadata": {},
   "source": [
    "# Working with intake-spark catalogs"
   ]
  },
  {
   "cell_type": "markdown",
   "id": "89177062-8f60-40c4-adca-1fb2bb912fab",
   "metadata": {},
   "source": [
    "Intake-spark catalogs, as any other intake catalog, includes metadata and the list of all available files in a dataset. It's devloped to work with very big datasets like CMIP6 and saves a complete metadata including licences, information about variables, etc. For this reason, the list of files is not a regular csv/pandas table, it is saved using parket files. \n",
    "\n",
    "This very short tutorial is inspired by NCI's dataset workshop and materials. "
   ]
  },
  {
   "cell_type": "markdown",
   "id": "a814bf49-85c6-4ed2-a03b-52dc06750f11",
   "metadata": {},
   "source": [
    "To work with spark, we need to create a session. This will allow us to read the parquet files in the catalog."
   ]
  },
  {
   "cell_type": "code",
   "execution_count": 1,
   "id": "04859baf-1cf3-4767-8c90-4b22314a6279",
   "metadata": {},
   "outputs": [
    {
     "name": "stderr",
     "output_type": "stream",
     "text": [
      "WARNING: Using incubator modules: jdk.incubator.vector\n",
      "Using Spark's default log4j profile: org/apache/spark/log4j2-defaults.properties\n",
      "Setting default log level to \"WARN\".\n",
      "To adjust logging level use sc.setLogLevel(newLevel). For SparkR, use setLogLevel(newLevel).\n",
      "25/07/09 15:10:47 WARN NativeCodeLoader: Unable to load native-hadoop library for your platform... using builtin-java classes where applicable\n"
     ]
    }
   ],
   "source": [
    "from intake_spark.base import SparkHolder\n",
    "\n",
    "spark_config = {\n",
    "    \"spark.executor.memory\": \"2g\",  \n",
    "    \"spark.driver.memory\": \"4g\",  \n",
    "    \"spark.executor.instances\": \"2\", \n",
    "}\n",
    "\n",
    "h = SparkHolder(True, [('catalog', )],spark_config) #  A placeholder indicating which intake catalogs to register or initialize (you could extend this to use actual catalogs).\n",
    "h.setup()  # This actually sets up and starts the Spark session using the configurations you provided.\n",
    "session = h.session[0]  # Accesses the first Spark session created by SparkHolder and stores it in the variable session.\n",
    "\n",
    "session.conf.set(\"spark.sql.caseSensitive\", \"true\")  #Sets a Spark SQL configuration so that column name matching is case-sensitive."
   ]
  },
  {
   "cell_type": "markdown",
   "id": "b5235abe-6339-4fbd-9f48-742ad45b8206",
   "metadata": {},
   "source": [
    "Now, we can load a catalog. It is necesary to have access to the specific proyect. In this case, we'll work with ERA-Land located in `zz33`."
   ]
  },
  {
   "cell_type": "code",
   "execution_count": 2,
   "id": "88e938e6-d1e1-4c14-9df6-929a0d79602f",
   "metadata": {},
   "outputs": [
    {
     "name": "stderr",
     "output_type": "stream",
     "text": [
      "[Stage 0:>                                                          (0 + 1) / 1]"
     ]
    },
    {
     "name": "stdout",
     "output_type": "stream",
     "text": [
      "<class 'pyspark.sql.classic.dataframe.DataFrame'>\n"
     ]
    },
    {
     "name": "stderr",
     "output_type": "stream",
     "text": [
      "                                                                                "
     ]
    }
   ],
   "source": [
    "import intake\n",
    "catalog = intake.open_catalog(\"/g/data/zz93/catalog/yml/driver.yml\")\n",
    "df = catalog.mydata.to_spark()\n",
    "print(type(df))"
   ]
  },
  {
   "cell_type": "markdown",
   "id": "bd6993c6-5d6b-4dd2-8532-22b13a085f0e",
   "metadata": {},
   "source": [
    "A pyspark data frame, is similar to a pandas dataframe but optimized for big data processing. Let see how to navigate this dataframe to search and filter the file we want to read. "
   ]
  },
  {
   "cell_type": "code",
   "execution_count": 3,
   "id": "da6b25fd-5d46-4a57-b192-0d7eb123cdb5",
   "metadata": {},
   "outputs": [
    {
     "name": "stderr",
     "output_type": "stream",
     "text": [
      "[Stage 1:>                                                          (0 + 1) / 1]"
     ]
    },
    {
     "name": "stdout",
     "output_type": "stream",
     "text": [
      "+--------------------+--------------------+--------------------+---------+--------------------+--------------------+--------------------+\n",
      "|          attributes|          dimensions|             file_md|file_type|            file_uri|              format|           variables|\n",
      "+--------------------+--------------------+--------------------+---------+--------------------+--------------------+--------------------+\n",
      "|{CF-1.6, 2020-10-...|{{1801, false}, {...|{2022-01-26 20:21...|        f|/g/data/zz93/era5...|NC_FORMAT_NETCDF4...|{NULL, NULL, NULL...|\n",
      "|{CF-1.6, 2022-03-...|{{1801, false}, {...|{2022-06-28 04:30...|        f|/g/data/zz93/era5...|NC_FORMAT_NETCDF4...|{NULL, NULL, NULL...|\n",
      "|{CF-1.6, 2022-03-...|{{1801, false}, {...|{2022-06-28 04:30...|        f|/g/data/zz93/era5...|NC_FORMAT_NETCDF4...|{NULL, NULL, NULL...|\n",
      "|{CF-1.6, 2020-10-...|{{1801, false}, {...|{2022-01-26 20:21...|        f|/g/data/zz93/era5...|NC_FORMAT_NETCDF4...|{NULL, NULL, NULL...|\n",
      "|{CF-1.6, 2020-10-...|{{1801, false}, {...|{2022-01-26 20:21...|        f|/g/data/zz93/era5...|NC_FORMAT_NETCDF4...|{NULL, NULL, NULL...|\n",
      "|{CF-1.6, 2022-11-...|{{1801, false}, {...|{2022-11-01 10:36...|        f|/g/data/zz93/era5...|NC_FORMAT_NETCDF4...|{NULL, NULL, NULL...|\n",
      "|{CF-1.6, 2022-03-...|{{1801, false}, {...|{2022-06-28 04:30...|        f|/g/data/zz93/era5...|NC_FORMAT_NETCDF4...|{NULL, NULL, NULL...|\n",
      "|{CF-1.6, 2020-09-...|{{1801, false}, {...|{2022-01-26 20:21...|        f|/g/data/zz93/era5...|NC_FORMAT_NETCDF4...|{NULL, NULL, NULL...|\n",
      "|{CF-1.6, 2022-03-...|{{1801, false}, {...|{2022-06-28 04:30...|        f|/g/data/zz93/era5...|NC_FORMAT_NETCDF4...|{NULL, NULL, NULL...|\n",
      "|{CF-1.6, 2022-03-...|{{1801, false}, {...|{2022-06-28 04:30...|        f|/g/data/zz93/era5...|NC_FORMAT_NETCDF4...|{NULL, NULL, NULL...|\n",
      "|{CF-1.6, 2022-03-...|{{1801, false}, {...|{2022-06-28 04:30...|        f|/g/data/zz93/era5...|NC_FORMAT_NETCDF4...|{NULL, NULL, NULL...|\n",
      "|{CF-1.6, 2020-09-...|{{1801, false}, {...|{2022-01-26 20:21...|        f|/g/data/zz93/era5...|NC_FORMAT_NETCDF4...|{NULL, NULL, NULL...|\n",
      "|{CF-1.6, 2022-03-...|{{1801, false}, {...|{2022-06-28 04:30...|        f|/g/data/zz93/era5...|NC_FORMAT_NETCDF4...|{NULL, NULL, NULL...|\n",
      "|{CF-1.6, 2022-03-...|{{1801, false}, {...|{2022-06-28 04:30...|        f|/g/data/zz93/era5...|NC_FORMAT_NETCDF4...|{NULL, NULL, NULL...|\n",
      "|{CF-1.6, 2022-03-...|{{1801, false}, {...|{2022-06-28 04:30...|        f|/g/data/zz93/era5...|NC_FORMAT_NETCDF4...|{NULL, NULL, NULL...|\n",
      "|{CF-1.6, 2022-03-...|{{1801, false}, {...|{2022-06-28 04:30...|        f|/g/data/zz93/era5...|NC_FORMAT_NETCDF4...|{NULL, NULL, NULL...|\n",
      "|{CF-1.6, 2020-10-...|{{1801, false}, {...|{2022-01-26 20:21...|        f|/g/data/zz93/era5...|NC_FORMAT_NETCDF4...|{NULL, NULL, NULL...|\n",
      "|{CF-1.6, 2020-09-...|{{1801, false}, {...|{2022-01-26 20:21...|        f|/g/data/zz93/era5...|NC_FORMAT_NETCDF4...|{NULL, NULL, NULL...|\n",
      "|{CF-1.6, 2022-03-...|{{1801, false}, {...|{2022-06-28 04:30...|        f|/g/data/zz93/era5...|NC_FORMAT_NETCDF4...|{NULL, NULL, NULL...|\n",
      "|{CF-1.6, 2020-09-...|{{1801, false}, {...|{2022-01-26 20:21...|        f|/g/data/zz93/era5...|NC_FORMAT_NETCDF4...|{NULL, NULL, NULL...|\n",
      "+--------------------+--------------------+--------------------+---------+--------------------+--------------------+--------------------+\n",
      "only showing top 20 rows\n"
     ]
    },
    {
     "name": "stderr",
     "output_type": "stream",
     "text": [
      "                                                                                "
     ]
    }
   ],
   "source": [
    "df.show()"
   ]
  },
  {
   "cell_type": "markdown",
   "id": "72fd1232-cce1-431d-be5d-2edb4d2585cd",
   "metadata": {},
   "source": [
    "It has a few columns, but each one will containg a lot of information. "
   ]
  },
  {
   "cell_type": "code",
   "execution_count": 7,
   "id": "37e33065-de8c-4fb1-a09e-b86cbdf1d498",
   "metadata": {},
   "outputs": [
    {
     "data": {
      "text/plain": [
       "['attributes',\n",
       " 'dimensions',\n",
       " 'file_md',\n",
       " 'file_type',\n",
       " 'file_uri',\n",
       " 'format',\n",
       " 'variables']"
      ]
     },
     "execution_count": 7,
     "metadata": {},
     "output_type": "execute_result"
    }
   ],
   "source": [
    "df.columns"
   ]
  },
  {
   "cell_type": "code",
   "execution_count": 12,
   "id": "0ea89dfb-3578-4cb5-bd11-40314e1f748d",
   "metadata": {},
   "outputs": [
    {
     "name": "stdout",
     "output_type": "stream",
     "text": [
      "+--------------------+\n",
      "|            file_uri|\n",
      "+--------------------+\n",
      "|/g/data/zz93/era5...|\n",
      "|/g/data/zz93/era5...|\n",
      "|/g/data/zz93/era5...|\n",
      "|/g/data/zz93/era5...|\n",
      "|/g/data/zz93/era5...|\n",
      "|/g/data/zz93/era5...|\n",
      "|/g/data/zz93/era5...|\n",
      "|/g/data/zz93/era5...|\n",
      "|/g/data/zz93/era5...|\n",
      "|/g/data/zz93/era5...|\n",
      "|/g/data/zz93/era5...|\n",
      "|/g/data/zz93/era5...|\n",
      "|/g/data/zz93/era5...|\n",
      "|/g/data/zz93/era5...|\n",
      "|/g/data/zz93/era5...|\n",
      "|/g/data/zz93/era5...|\n",
      "|/g/data/zz93/era5...|\n",
      "|/g/data/zz93/era5...|\n",
      "|/g/data/zz93/era5...|\n",
      "|/g/data/zz93/era5...|\n",
      "+--------------------+\n",
      "only showing top 20 rows\n"
     ]
    }
   ],
   "source": [
    "df.select(\"file_uri\").distinct().show()"
   ]
  },
  {
   "cell_type": "markdown",
   "id": "abc30e0f-745e-4194-8e69-90dcee4e334c",
   "metadata": {},
   "source": [
    "Another way to inspect the columns is with the `.printSchema()` function. The \"Schema\" is the structure of the dataframe and the information is usually organised in levels, like a tree. "
   ]
  },
  {
   "cell_type": "code",
   "execution_count": 4,
   "id": "3fe9527f-f47b-475a-b40a-c63d927525cd",
   "metadata": {},
   "outputs": [
    {
     "name": "stdout",
     "output_type": "stream",
     "text": [
      "root\n",
      " |-- dimensions: struct (nullable = true)\n",
      " |    |-- latitude: struct (nullable = true)\n",
      " |    |    |-- length: long (nullable = true)\n",
      " |    |    |-- unlimited: boolean (nullable = true)\n",
      " |    |-- longitude: struct (nullable = true)\n",
      " |    |    |-- length: long (nullable = true)\n",
      " |    |    |-- unlimited: boolean (nullable = true)\n",
      " |    |-- time: struct (nullable = true)\n",
      " |    |    |-- length: long (nullable = true)\n",
      " |    |    |-- unlimited: boolean (nullable = true)\n",
      "\n"
     ]
    }
   ],
   "source": [
    "df.select(\"dimensions\").printSchema()"
   ]
  },
  {
   "cell_type": "code",
   "execution_count": 19,
   "id": "e851b91f-972c-44cb-90e7-e6f86f81888e",
   "metadata": {},
   "outputs": [
    {
     "name": "stdout",
     "output_type": "stream",
     "text": [
      "+------------+\n",
      "|time        |\n",
      "+------------+\n",
      "|{24, false} |\n",
      "|{743, false}|\n",
      "|{25, false} |\n",
      "|{672, false}|\n",
      "|{720, false}|\n",
      "|{744, false}|\n",
      "|{1, false}  |\n",
      "|{696, false}|\n",
      "+------------+\n",
      "\n"
     ]
    }
   ],
   "source": [
    "df.select(\"dimensions.time\").distinct().show(truncate=False)"
   ]
  },
  {
   "cell_type": "code",
   "execution_count": 22,
   "id": "ed8feeaa-1676-4e5e-9ac1-d7263b585b0c",
   "metadata": {},
   "outputs": [
    {
     "name": "stdout",
     "output_type": "stream",
     "text": [
      "+----------------------------------------------------------------------------------------------------------------------------------------------------------------------------+\n",
      "|d2m                                                                                                                                                                         |\n",
      "+----------------------------------------------------------------------------------------------------------------------------------------------------------------------------+\n",
      "|{{-32767, 2.54442, 2 metre dewpoint temperature, -32767, 1.41827, K}, {[5, 361, 720], NC_CHUNKED}, {5, true, true}, [time, latitude, longitude], NC_ENDIAN_LITTLE, NC_SHORT}|\n",
      "|{{-32767, 2.52901, 2 metre dewpoint temperature, -32767, 1.41069, K}, {[5, 361, 720], NC_CHUNKED}, {5, true, true}, [time, latitude, longitude], NC_ENDIAN_LITTLE, NC_SHORT}|\n",
      "|{{-32767, 2.51008, 2 metre dewpoint temperature, -32767, 1.46302, K}, {[5, 361, 720], NC_CHUNKED}, {5, true, true}, [time, latitude, longitude], NC_ENDIAN_LITTLE, NC_SHORT}|\n",
      "|{{-32767, 2.60399, 2 metre dewpoint temperature, -32767, 1.18073, K}, {[5, 361, 720], NC_CHUNKED}, {5, true, true}, [time, latitude, longitude], NC_ENDIAN_LITTLE, NC_SHORT}|\n",
      "|{{-32767, 2.52212, 2 metre dewpoint temperature, -32767, 1.44626, K}, {[5, 361, 720], NC_CHUNKED}, {5, true, true}, [time, latitude, longitude], NC_ENDIAN_LITTLE, NC_SHORT}|\n",
      "|{{-32767, 2.58806, 2 metre dewpoint temperature, -32767, 1.2057, K}, {[5, 361, 720], NC_CHUNKED}, {5, true, true}, [time, latitude, longitude], NC_ENDIAN_LITTLE, NC_SHORT} |\n",
      "|{{-32767, 2.53878, 2 metre dewpoint temperature, -32767, 1.42059, K}, {[5, 361, 720], NC_CHUNKED}, {5, true, true}, [time, latitude, longitude], NC_ENDIAN_LITTLE, NC_SHORT}|\n",
      "|{{-32767, 2.54946, 2 metre dewpoint temperature, -32767, 1.35204, K}, {[5, 361, 720], NC_CHUNKED}, {5, true, true}, [time, latitude, longitude], NC_ENDIAN_LITTLE, NC_SHORT}|\n",
      "|{{-32767, 2.50595, 2 metre dewpoint temperature, -32767, 1.48843, K}, {[5, 361, 720], NC_CHUNKED}, {5, true, true}, [time, latitude, longitude], NC_ENDIAN_LITTLE, NC_SHORT}|\n",
      "|{{-32767, 2.53193, 2 metre dewpoint temperature, -32767, 1.43588, K}, {[5, 361, 720], NC_CHUNKED}, {5, true, true}, [time, latitude, longitude], NC_ENDIAN_LITTLE, NC_SHORT}|\n",
      "|{{-32767, 2.52788, 2 metre dewpoint temperature, -32767, 1.44219, K}, {[5, 361, 720], NC_CHUNKED}, {5, true, true}, [time, latitude, longitude], NC_ENDIAN_LITTLE, NC_SHORT}|\n",
      "|{{-32767, 2.49447, 2 metre dewpoint temperature, -32767, 1.54195, K}, {[5, 361, 720], NC_CHUNKED}, {5, true, true}, [time, latitude, longitude], NC_ENDIAN_LITTLE, NC_SHORT}|\n",
      "|{{-32767, 2.55393, 2 metre dewpoint temperature, -32767, 1.3315, K}, {[5, 361, 720], NC_CHUNKED}, {5, true, true}, [time, latitude, longitude], NC_ENDIAN_LITTLE, NC_SHORT} |\n",
      "|{{-32767, 2.61122, 2 metre dewpoint temperature, -32767, 1.14546, K}, {[5, 361, 720], NC_CHUNKED}, {5, true, true}, [time, latitude, longitude], NC_ENDIAN_LITTLE, NC_SHORT}|\n",
      "|{{-32767, 2.51091, 2 metre dewpoint temperature, -32767, 1.54459, K}, {[5, 361, 720], NC_CHUNKED}, {5, true, true}, [time, latitude, longitude], NC_ENDIAN_LITTLE, NC_SHORT}|\n",
      "|{{-32767, 2.55507, 2 metre dewpoint temperature, -32767, 1.3325, K}, {[5, 361, 720], NC_CHUNKED}, {5, true, true}, [time, latitude, longitude], NC_ENDIAN_LITTLE, NC_SHORT} |\n",
      "|{{-32767, 2.5123, 2 metre dewpoint temperature, -32767, 1.46074, K}, {[5, 361, 720], NC_CHUNKED}, {5, true, true}, [time, latitude, longitude], NC_ENDIAN_LITTLE, NC_SHORT} |\n",
      "|{{-32767, 2.52228, 2 metre dewpoint temperature, -32767, 1.50497, K}, {[5, 361, 720], NC_CHUNKED}, {5, true, true}, [time, latitude, longitude], NC_ENDIAN_LITTLE, NC_SHORT}|\n",
      "|{{-32767, 2.60773, 2 metre dewpoint temperature, -32767, 1.16817, K}, {[5, 361, 720], NC_CHUNKED}, {5, true, true}, [time, latitude, longitude], NC_ENDIAN_LITTLE, NC_SHORT}|\n",
      "|{{-32767, 2.4846, 2 metre dewpoint temperature, -32767, 1.61683, K}, {[5, 361, 720], NC_CHUNKED}, {5, true, true}, [time, latitude, longitude], NC_ENDIAN_LITTLE, NC_SHORT} |\n",
      "+----------------------------------------------------------------------------------------------------------------------------------------------------------------------------+\n",
      "only showing top 20 rows\n"
     ]
    }
   ],
   "source": [
    "df.select(\"variables.d2m\").distinct().show(truncate=False)"
   ]
  },
  {
   "cell_type": "code",
   "execution_count": 36,
   "id": "d167ab11-dab4-49cb-be56-603d18d0e216",
   "metadata": {},
   "outputs": [
    {
     "name": "stdout",
     "output_type": "stream",
     "text": [
      "+----------------------------+--------------------------------------------------------------------------------------------------+\n",
      "|long_name                   |file_uri                                                                                          |\n",
      "+----------------------------+--------------------------------------------------------------------------------------------------+\n",
      "|2 metre dewpoint temperature|/g/data/zz93/era5-land/monthly-averaged-by-hour/2d/1959/2d_era5-land_mnth_sfc_19591201-19591231.nc|\n",
      "|2 metre dewpoint temperature|/g/data/zz93/era5-land/monthly-averaged-by-hour/2d/1983/2d_era5-land_mnth_sfc_19830601-19830630.nc|\n",
      "|2 metre dewpoint temperature|/g/data/zz93/era5-land/monthly-averaged-by-hour/2d/1953/2d_era5-land_mnth_sfc_19530601-19530630.nc|\n",
      "|2 metre dewpoint temperature|/g/data/zz93/era5-land/monthly-averaged-by-hour/2d/1969/2d_era5-land_mnth_sfc_19690101-19690131.nc|\n",
      "|2 metre dewpoint temperature|/g/data/zz93/era5-land/monthly-averaged-by-hour/2d/1964/2d_era5-land_mnth_sfc_19640901-19640930.nc|\n",
      "|2 metre dewpoint temperature|/g/data/zz93/era5-land/monthly-averaged-by-hour/2d/1974/2d_era5-land_mnth_sfc_19741201-19741231.nc|\n",
      "|2 metre dewpoint temperature|/g/data/zz93/era5-land/monthly-averaged-by-hour/2d/1960/2d_era5-land_mnth_sfc_19601001-19601031.nc|\n",
      "|2 metre dewpoint temperature|/g/data/zz93/era5-land/monthly-averaged-by-hour/2d/1982/2d_era5-land_mnth_sfc_19820401-19820430.nc|\n",
      "|2 metre dewpoint temperature|/g/data/zz93/era5-land/monthly-averaged-by-hour/2d/1959/2d_era5-land_mnth_sfc_19590601-19590630.nc|\n",
      "|2 metre dewpoint temperature|/g/data/zz93/era5-land/monthly-averaged-by-hour/2d/2017/2d_era5-land_mnth_sfc_20170501-20170531.nc|\n",
      "|2 metre dewpoint temperature|/g/data/zz93/era5-land/monthly-averaged-by-hour/2d/2017/2d_era5-land_mnth_sfc_20170801-20170831.nc|\n",
      "|2 metre dewpoint temperature|/g/data/zz93/era5-land/monthly-averaged-by-hour/2d/2012/2d_era5-land_mnth_sfc_20120501-20120531.nc|\n",
      "|2 metre dewpoint temperature|/g/data/zz93/era5-land/monthly-averaged-by-hour/2d/1990/2d_era5-land_mnth_sfc_19900501-19900531.nc|\n",
      "|2 metre dewpoint temperature|/g/data/zz93/era5-land/monthly-averaged-by-hour/2d/1977/2d_era5-land_mnth_sfc_19770901-19770930.nc|\n",
      "|2 metre dewpoint temperature|/g/data/zz93/era5-land/monthly-averaged-by-hour/2d/2020/2d_era5-land_mnth_sfc_20200801-20200831.nc|\n",
      "|2 metre dewpoint temperature|/g/data/zz93/era5-land/monthly-averaged-by-hour/2d/1991/2d_era5-land_mnth_sfc_19910101-19910131.nc|\n",
      "|2 metre dewpoint temperature|/g/data/zz93/era5-land/monthly-averaged-by-hour/2d/1970/2d_era5-land_mnth_sfc_19700401-19700430.nc|\n",
      "|2 metre dewpoint temperature|/g/data/zz93/era5-land/monthly-averaged-by-hour/2d/1994/2d_era5-land_mnth_sfc_19941201-19941231.nc|\n",
      "|2 metre dewpoint temperature|/g/data/zz93/era5-land/monthly-averaged-by-hour/2d/2018/2d_era5-land_mnth_sfc_20181001-20181031.nc|\n",
      "|2 metre dewpoint temperature|/g/data/zz93/era5-land/monthly-averaged-by-hour/2d/2000/2d_era5-land_mnth_sfc_20000601-20000630.nc|\n",
      "+----------------------------+--------------------------------------------------------------------------------------------------+\n",
      "only showing top 20 rows\n"
     ]
    }
   ],
   "source": [
    "df.select(\"variables.d2m.attributes.long_name\",\n",
    "          \"file_uri\").distinct().show(truncate=False)\n"
   ]
  },
  {
   "cell_type": "markdown",
   "id": "edc9a7b7-04a0-491e-b6e1-9e739b7cfa06",
   "metadata": {},
   "source": [
    "With that table we can create a pandas dataframe and, for example, parse the time range to filter the file we want to read. "
   ]
  },
  {
   "cell_type": "code",
   "execution_count": 55,
   "id": "3a79bb39-6a52-43b2-9d73-a7d15c43853d",
   "metadata": {},
   "outputs": [
    {
     "data": {
      "text/html": [
       "<div>\n",
       "<style scoped>\n",
       "    .dataframe tbody tr th:only-of-type {\n",
       "        vertical-align: middle;\n",
       "    }\n",
       "\n",
       "    .dataframe tbody tr th {\n",
       "        vertical-align: top;\n",
       "    }\n",
       "\n",
       "    .dataframe thead th {\n",
       "        text-align: right;\n",
       "    }\n",
       "</style>\n",
       "<table border=\"1\" class=\"dataframe\">\n",
       "  <thead>\n",
       "    <tr style=\"text-align: right;\">\n",
       "      <th></th>\n",
       "      <th>long_name</th>\n",
       "      <th>file_uri</th>\n",
       "      <th>time_range</th>\n",
       "      <th>ini_date</th>\n",
       "      <th>end_date</th>\n",
       "    </tr>\n",
       "  </thead>\n",
       "  <tbody>\n",
       "    <tr>\n",
       "      <th>0</th>\n",
       "      <td>2 metre dewpoint temperature</td>\n",
       "      <td>/g/data/zz93/era5-land/monthly-averaged-by-hou...</td>\n",
       "      <td>19591201-19591231</td>\n",
       "      <td>1959-12-01</td>\n",
       "      <td>1959-12-31</td>\n",
       "    </tr>\n",
       "    <tr>\n",
       "      <th>1</th>\n",
       "      <td>2 metre dewpoint temperature</td>\n",
       "      <td>/g/data/zz93/era5-land/monthly-averaged-by-hou...</td>\n",
       "      <td>19830601-19830630</td>\n",
       "      <td>1983-06-01</td>\n",
       "      <td>1983-06-30</td>\n",
       "    </tr>\n",
       "    <tr>\n",
       "      <th>2</th>\n",
       "      <td>2 metre dewpoint temperature</td>\n",
       "      <td>/g/data/zz93/era5-land/monthly-averaged-by-hou...</td>\n",
       "      <td>19530601-19530630</td>\n",
       "      <td>1953-06-01</td>\n",
       "      <td>1953-06-30</td>\n",
       "    </tr>\n",
       "    <tr>\n",
       "      <th>3</th>\n",
       "      <td>2 metre dewpoint temperature</td>\n",
       "      <td>/g/data/zz93/era5-land/monthly-averaged-by-hou...</td>\n",
       "      <td>19690101-19690131</td>\n",
       "      <td>1969-01-01</td>\n",
       "      <td>1969-01-31</td>\n",
       "    </tr>\n",
       "    <tr>\n",
       "      <th>4</th>\n",
       "      <td>2 metre dewpoint temperature</td>\n",
       "      <td>/g/data/zz93/era5-land/monthly-averaged-by-hou...</td>\n",
       "      <td>19640901-19640930</td>\n",
       "      <td>1964-09-01</td>\n",
       "      <td>1964-09-30</td>\n",
       "    </tr>\n",
       "    <tr>\n",
       "      <th>...</th>\n",
       "      <td>...</td>\n",
       "      <td>...</td>\n",
       "      <td>...</td>\n",
       "      <td>...</td>\n",
       "      <td>...</td>\n",
       "    </tr>\n",
       "    <tr>\n",
       "      <th>135513</th>\n",
       "      <td>None</td>\n",
       "      <td>/g/data/zz93/era5-land/monthly-averaged/rsn/20...</td>\n",
       "      <td>20100501-20100531</td>\n",
       "      <td>2010-05-01</td>\n",
       "      <td>2010-05-31</td>\n",
       "    </tr>\n",
       "    <tr>\n",
       "      <th>135514</th>\n",
       "      <td>None</td>\n",
       "      <td>/g/data/zz93/era5-land/monthly-averaged/rsn/19...</td>\n",
       "      <td>19780101-19780131</td>\n",
       "      <td>1978-01-01</td>\n",
       "      <td>1978-01-31</td>\n",
       "    </tr>\n",
       "    <tr>\n",
       "      <th>135515</th>\n",
       "      <td>None</td>\n",
       "      <td>/g/data/zz93/era5-land/monthly-averaged/rsn/19...</td>\n",
       "      <td>19870801-19870831</td>\n",
       "      <td>1987-08-01</td>\n",
       "      <td>1987-08-31</td>\n",
       "    </tr>\n",
       "    <tr>\n",
       "      <th>135516</th>\n",
       "      <td>None</td>\n",
       "      <td>/g/data/zz93/era5-land/monthly-averaged/stl1/1...</td>\n",
       "      <td>19661201-19661231</td>\n",
       "      <td>1966-12-01</td>\n",
       "      <td>1966-12-31</td>\n",
       "    </tr>\n",
       "    <tr>\n",
       "      <th>135517</th>\n",
       "      <td>None</td>\n",
       "      <td>/g/data/zz93/era5-land/monthly-averaged/stl1/2...</td>\n",
       "      <td>20220601-20220630</td>\n",
       "      <td>2022-06-01</td>\n",
       "      <td>2022-06-30</td>\n",
       "    </tr>\n",
       "  </tbody>\n",
       "</table>\n",
       "<p>135518 rows × 5 columns</p>\n",
       "</div>"
      ],
      "text/plain": [
       "                           long_name  \\\n",
       "0       2 metre dewpoint temperature   \n",
       "1       2 metre dewpoint temperature   \n",
       "2       2 metre dewpoint temperature   \n",
       "3       2 metre dewpoint temperature   \n",
       "4       2 metre dewpoint temperature   \n",
       "...                              ...   \n",
       "135513                          None   \n",
       "135514                          None   \n",
       "135515                          None   \n",
       "135516                          None   \n",
       "135517                          None   \n",
       "\n",
       "                                                 file_uri         time_range  \\\n",
       "0       /g/data/zz93/era5-land/monthly-averaged-by-hou...  19591201-19591231   \n",
       "1       /g/data/zz93/era5-land/monthly-averaged-by-hou...  19830601-19830630   \n",
       "2       /g/data/zz93/era5-land/monthly-averaged-by-hou...  19530601-19530630   \n",
       "3       /g/data/zz93/era5-land/monthly-averaged-by-hou...  19690101-19690131   \n",
       "4       /g/data/zz93/era5-land/monthly-averaged-by-hou...  19640901-19640930   \n",
       "...                                                   ...                ...   \n",
       "135513  /g/data/zz93/era5-land/monthly-averaged/rsn/20...  20100501-20100531   \n",
       "135514  /g/data/zz93/era5-land/monthly-averaged/rsn/19...  19780101-19780131   \n",
       "135515  /g/data/zz93/era5-land/monthly-averaged/rsn/19...  19870801-19870831   \n",
       "135516  /g/data/zz93/era5-land/monthly-averaged/stl1/1...  19661201-19661231   \n",
       "135517  /g/data/zz93/era5-land/monthly-averaged/stl1/2...  20220601-20220630   \n",
       "\n",
       "         ini_date   end_date  \n",
       "0      1959-12-01 1959-12-31  \n",
       "1      1983-06-01 1983-06-30  \n",
       "2      1953-06-01 1953-06-30  \n",
       "3      1969-01-01 1969-01-31  \n",
       "4      1964-09-01 1964-09-30  \n",
       "...           ...        ...  \n",
       "135513 2010-05-01 2010-05-31  \n",
       "135514 1978-01-01 1978-01-31  \n",
       "135515 1987-08-01 1987-08-31  \n",
       "135516 1966-12-01 1966-12-31  \n",
       "135517 2022-06-01 2022-06-30  \n",
       "\n",
       "[135518 rows x 5 columns]"
      ]
     },
     "execution_count": 55,
     "metadata": {},
     "output_type": "execute_result"
    }
   ],
   "source": [
    "import pandas as pd\n",
    "\n",
    "d2m_data = df.select(\"variables.d2m.attributes.long_name\",\n",
    "          \"file_uri\").distinct().toPandas()\n",
    "\n",
    "d2m_data['time_range'] = d2m_data['file_uri'].str.extract(r'(\\d{8}-\\d{8})\\.nc$')\n",
    "d2m_data[['ini_date', 'end_date']] = d2m_data['time_range'].str.split('-', expand=True)\n",
    "\n",
    "\n",
    "d2m_data['ini_date'] = pd.to_datetime(d2m_data['ini_date'], format='%Y%m%d')\n",
    "d2m_data['end_date'] = pd.to_datetime(d2m_data['end_date'], format='%Y%m%d')\n",
    "\n",
    "d2m_data"
   ]
  },
  {
   "cell_type": "code",
   "execution_count": 5,
   "id": "cfa7879b-9050-4e5b-9aab-bedd1bf2d305",
   "metadata": {},
   "outputs": [],
   "source": [
    "session.stop()"
   ]
  }
 ],
 "metadata": {
  "kernelspec": {
   "display_name": "Python 3 (ipykernel)",
   "language": "python",
   "name": "python3"
  },
  "language_info": {
   "codemirror_mode": {
    "name": "ipython",
    "version": 3
   },
   "file_extension": ".py",
   "mimetype": "text/x-python",
   "name": "python",
   "nbconvert_exporter": "python",
   "pygments_lexer": "ipython3",
   "version": "3.10.17"
  }
 },
 "nbformat": 4,
 "nbformat_minor": 5
}
